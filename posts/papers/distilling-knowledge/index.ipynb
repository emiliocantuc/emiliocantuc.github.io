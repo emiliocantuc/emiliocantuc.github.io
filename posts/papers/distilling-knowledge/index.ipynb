{
 "cells": [
  {
   "cell_type": "raw",
   "metadata": {
    "vscode": {
     "languageId": "raw"
    }
   },
   "source": [
    "---\n",
    "title: \"Distilling the Knowledge in a Neural Network\"\n",
    "subtitle: \"Revisiting and implementing part of the classical paper\"\n",
    "date: 2025-01-28\n",
    "categories: [deep learning, paper]\n",
    "format:\n",
    "  html:\n",
    "    other-links:\n",
    "      - text: Paper\n",
    "        icon: book\n",
    "        href: https://arxiv.org/abs/1503.02531\n",
    "    toc: true\n",
    "---"
   ]
  },
  {
   "cell_type": "code",
   "execution_count": 374,
   "metadata": {},
   "outputs": [
    {
     "data": {
      "text/plain": [
       "device(type='mps')"
      ]
     },
     "execution_count": 374,
     "metadata": {},
     "output_type": "execute_result"
    }
   ],
   "source": [
    "#| code-summary: Imports and model evaluation function\n",
    "#| output: false\n",
    "#| echo: false\n",
    "import numpy as np\n",
    "import pandas as pd\n",
    "import seaborn as sns\n",
    "import matplotlib.pyplot as plt\n",
    "import os, functools, itertools, collections\n",
    "from tqdm import tqdm\n",
    "\n",
    "import torch\n",
    "import torch.nn as nn\n",
    "import torch.nn.functional as F\n",
    "import torch.optim as optim\n",
    "from torch.utils.data import DataLoader, TensorDataset\n",
    "from torchvision import datasets, transforms\n",
    "\n",
    "from einops import rearrange\n",
    "\n",
    "for d in ['data', 'models', 'logs']: os.makedirs(d, exist_ok = True)\n",
    "DATA_DIR = '../data'\n",
    "\n",
    "device = torch.device(\n",
    "    'cuda' if torch.cuda.is_available() else\n",
    "    ('mps' if torch.backends.mps.is_available() else\n",
    "    'cpu')\n",
    ")\n",
    "\n",
    "def set_seed(seed = 42):\n",
    "    np.random.seed(seed)\n",
    "    torch.manual_seed(seed)\n",
    "    if device.type == 'cuda':\n",
    "        print('Setting seed for CUDA')\n",
    "        torch.cuda.manual_seed_all(seed)\n",
    "        torch.backends.cudnn.deterministic = True\n",
    "        torch.backends.cudnn.benchmark = False\n",
    "\n",
    "set_seed()\n",
    "device"
   ]
  },
  {
   "cell_type": "markdown",
   "metadata": {},
   "source": [
    "# Idea\n",
    "\n",
    "This classic paper introduced *distillation* as a way of transferring knowledge from a big network teacher into a small one. The core observation is that we should use the big model's output distribution as soft labels to train the small model. \n",
    "\n",
    "Remember that in classification we measure the [cross-entropy](https://en.wikipedia.org/wiki/Cross-entropy) loss, given the predicted $\\hat y_c$ and correct $y_c$ class probabilities of an example, with:\n",
    "\n",
    "$$\n",
    "L(\\hat y,y) = -\\sum_c y_c \\log \\hat y_c\n",
    "$$\n",
    "\n",
    "To use soft labels we just set $y = f_{\\text{big}}(x)$.\n",
    "\n",
    "These soft labels provide a much richer training signal for the smaller model, especially when the larger model distributes its probability mass across multiple classes (i.e. when the labels have high entropy). To force this high entropy, the authors propose increasing the temperature $T$ of the softmax layer in the larger model to produce the soft labels. The small model trains with this same temperature but then sets it to 1 during testing.\n",
    "\n",
    "![Increasing the temperature of the big model produces softer and more informative labels.](images/demo.png)\n",
    "\n",
    "They also had better results by adding a small term to the loss function with the regular hard-labeled cross-entropy. The reasoning is that the model may not have enough capacity to learn the soft targets, so *\"erring in the direction of the correct answer turns out to be helpful\"*. If we write the output of a model with temperature $T$ as $f(x; T)$, then the complete loss is\n",
    "\n",
    "$$\n",
    "L_{\\text{distill}}(x,y) = a T^2 \\cdot L\\left[ f_{\\text{small}}(x; T), f_{\\text{big}}(x; T) \\right] + (1-a) \\cdot L \\left [ f_{\\text{small}}(x; 1), y \\right ]\n",
    "$$\n",
    "\n",
    "The first term is scaled by $T^2$ because the magnitudes of the gradients scale as $T^{-2}$ and we want to control the contribution of each term by changing only $a$.\n",
    "\n",
    "::: {.callout-note collapse=\"true\" title=\"Why do the gradient magnitudes scale as $T^{-2}$?\" icon=false}\n",
    "\n",
    "Let $z$ be the logits, then the output $i$th entry of the softmax layer with temperature $T$ is\n",
    "$$\n",
    "\\sigma_T(z)_i = \\frac{e^{z_i/T}}{\\sum_j e^{z_j/T}} = \\hat y_i\n",
    "$$\n",
    "Plugging into the loss\n",
    "$$\n",
    "L(\\hat y, y) = -\\sum_i y_i \\log \\left(\\frac{e^{z_i/T}}{\\sum_j e^{z_j/T}} \\right) = -\\frac{1}{T}\\sum_i y_i z_i + (1) \\log \\left( \\sum_j e^{z_j/T} \\right)\n",
    "$$\n",
    "and differentiating w.r.t. $z_i$ (don't forget the chain rule), we get\n",
    "$$\n",
    "\\frac{\\partial L}{\\partial z_i} = -\\frac{1}{T} y_i + \\frac{1}{ \\sum_j e^{z_j/T}} \\times e^{z_i/T} (1/T) = \\frac{1}{T}(\\sigma_T(z)_i - y_i)\n",
    "$$\n",
    "So, we see that\n",
    "$$\n",
    "|| \\nabla L||_2^2 = \\frac{1}{T^2} \\sum_i (\\sigma_T(z)_i - y_i)^2 \\propto L^{-2}\n",
    "$$\n",
    ":::"
   ]
  },
  {
   "cell_type": "markdown",
   "metadata": {},
   "source": [
    "# MNIST\n",
    "\n",
    "We try out distillation on the small-scale MNIST experiment that the authors describe. They use a two-layer linear ReLU architecture with dropout, a jitter image augmentation, and max norm as regularization."
   ]
  },
  {
   "cell_type": "code",
   "execution_count": 114,
   "metadata": {},
   "outputs": [],
   "source": [
    "#| code-summary: Helper functions\n",
    "#| echo: false\n",
    "class RandomJitter(object):\n",
    "    def __init__(self, pixels=2):\n",
    "        self.pixels = pixels\n",
    "        \n",
    "    def __call__(self, img):\n",
    "        dx = np.random.randint(-self.pixels, self.pixels + 1)\n",
    "        dy = np.random.randint(-self.pixels, self.pixels + 1)\n",
    "        return transforms.functional.affine(img, angle=0, translate=(dx, dy), \n",
    "                                         scale=1.0, shear=0)\n",
    "\n",
    "class EarlyStopping:\n",
    "    def __init__(self, patience=5, min_delta=0):\n",
    "        self.patience = patience\n",
    "        self.min_delta = min_delta\n",
    "        self.counter = 0\n",
    "        self.best_loss = None\n",
    "        self.early_stop = False\n",
    "        \n",
    "    def __call__(self, val_loss):\n",
    "        if self.best_loss is None:\n",
    "            self.best_loss = val_loss\n",
    "        elif val_loss > self.best_loss - self.min_delta:\n",
    "            self.counter += 1\n",
    "            if self.counter >= self.patience:\n",
    "                self.early_stop = True\n",
    "        else:\n",
    "            self.best_loss = val_loss\n",
    "            self.counter = 0\n",
    "        \n",
    "        return self.early_stop\n",
    "    \n",
    "def evaluate_model(model, data_loader, criterion = nn.CrossEntropyLoss()):\n",
    "    model.eval()\n",
    "\n",
    "    total_loss, correct, total = 0, 0, 0\n",
    "    with torch.no_grad():\n",
    "        for images, labels in data_loader:\n",
    "            images, labels = images.to(device), labels.to(device)\n",
    "\n",
    "            outputs = model(images)\n",
    "            loss = criterion(outputs, labels)\n",
    "\n",
    "            total_loss += loss.item()\n",
    "            _, predicted = torch.max(outputs.data, 1)\n",
    "            total += labels.size(0)\n",
    "            correct += (predicted == labels).sum().item()\n",
    "\n",
    "    return total_loss / len(data_loader), correct / total\n",
    "\n",
    "def save_results(model, history, name):\n",
    "    torch.save(model.state_dict(), f'models/{name}.pt')\n",
    "    pd.DataFrame(history).to_csv(f'logs/{name}.csv', index = False)"
   ]
  },
  {
   "cell_type": "code",
   "execution_count": 51,
   "metadata": {},
   "outputs": [],
   "source": [
    "#| code-summary: Model definition\n",
    "class Model(nn.Module):\n",
    "    '''\n",
    "    Used in MNIST experiments.\n",
    "    A two-layer linear ReLU network with dropout and max norm regularization.\n",
    "    '''\n",
    "    def __init__(self, hidden_size, max_norm = 2.0, drop_rate = 0.5):\n",
    "        super(Model, self).__init__()\n",
    "        self.max_norm = max_norm\n",
    "        self.layers = nn.Sequential(\n",
    "            nn.Flatten(),\n",
    "            nn.Linear(28 * 28, hidden_size),\n",
    "            nn.ReLU(),\n",
    "            nn.Dropout(drop_rate),\n",
    "            nn.Linear(hidden_size, hidden_size),\n",
    "            nn.ReLU(),\n",
    "            nn.Dropout(drop_rate),\n",
    "            nn.Linear(hidden_size, 10)\n",
    "        )\n",
    "\n",
    "    def forward(self, x):\n",
    "        # Clip the weights to the maximum allowed norm\n",
    "        if self.max_norm is not None:\n",
    "            with torch.no_grad():\n",
    "                for layer in self.modules():\n",
    "                    if isinstance(layer, nn.Linear):\n",
    "                        norm = layer.weight.data.norm(2, dim=1, keepdim=True)\n",
    "                        desired = torch.clamp(norm, max=self.max_norm)\n",
    "                        layer.weight.data *= (desired / norm)\n",
    "                    \n",
    "        return self.layers(x)"
   ]
  },
  {
   "cell_type": "code",
   "execution_count": 417,
   "metadata": {},
   "outputs": [],
   "source": [
    "#| code-summary: Data loading\n",
    "#| echo: false\n",
    "reg_transform = transforms.Compose([\n",
    "    transforms.ToTensor(),\n",
    "    transforms.Normalize((0.1307,), (0.3081,))\n",
    "])\n",
    "\n",
    "aug_transform = transforms.Compose([\n",
    "    transforms.ToTensor(),\n",
    "    RandomJitter(pixels = 2),\n",
    "    transforms.Normalize((0.1307,), (0.3081,))\n",
    "])\n",
    "\n",
    "train_dataset = datasets.MNIST(root = DATA_DIR, train = True,  download = True, transform = aug_transform)\n",
    "test_dataset  = datasets.MNIST(root = DATA_DIR, train = False, download = True, transform = reg_transform)\n",
    "\n",
    "# Split training data into train and validation sets\n",
    "train_size = int(0.9 * len(train_dataset))\n",
    "val_size = len(train_dataset) - train_size\n",
    "train_dataset, val_dataset = torch.utils.data.random_split(\n",
    "    train_dataset, [train_size, val_size]\n",
    ")\n"
   ]
  },
  {
   "cell_type": "markdown",
   "metadata": {},
   "source": [
    "We define the distillation loss:"
   ]
  },
  {
   "cell_type": "code",
   "execution_count": 329,
   "metadata": {},
   "outputs": [],
   "source": [
    "#| code-summary: Define training losses\n",
    "#| code-fold: show\n",
    "# Regular cross-entropy loss\n",
    "def hard_loss(outputs, labels, criterion, *args):\n",
    "    return criterion(outputs, labels)\n",
    "\n",
    "# Distillation loss\n",
    "def soft_loss(outputs, labels, criterion, examples, big_model, T, a):\n",
    "    with torch.no_grad():\n",
    "        big_model.eval()\n",
    "        soft_labels = F.softmax(big_model(examples) / T, dim = 1)\n",
    "\n",
    "    return a * (T ** 2) * criterion(outputs / T, soft_labels) + (1 - a) * criterion(outputs, labels)"
   ]
  },
  {
   "cell_type": "code",
   "execution_count": 322,
   "metadata": {},
   "outputs": [],
   "source": [
    "#| echo: false\n",
    "def train(model, loss_func, train_loader, val_loader, num_epochs, lr, patience):\n",
    "\n",
    "    criterion = nn.CrossEntropyLoss()\n",
    "    optimizer = optim.SGD(model.parameters(), lr = lr, momentum = 0.9)\n",
    "    early_stopping = EarlyStopping(patience = patience)\n",
    "    history = collections.defaultdict(list)\n",
    "\n",
    "    # Training loop\n",
    "    for epoch in range(num_epochs):\n",
    "        model.train()\n",
    "        train_loss = 0\n",
    "        for images, labels in train_loader:\n",
    "            images, labels = images.to(device), labels.to(device)\n",
    "\n",
    "            outputs = model(images)\n",
    "            loss = loss_func(outputs, labels, criterion, images)\n",
    "            \n",
    "            optimizer.zero_grad()\n",
    "            loss.backward()\n",
    "            optimizer.step()\n",
    "            train_loss += loss.item()\n",
    "            \n",
    "        # Calculate average training loss\n",
    "        avg_train_loss = train_loss / len(train_loader)\n",
    "        history['train_loss'].append(avg_train_loss)\n",
    "        \n",
    "        # Validation phase\n",
    "        val_loss, val_accuracy = evaluate_model(model, val_loader)\n",
    "        history['val_loss'].append(val_loss)\n",
    "        history['val_accuracy'].append(val_accuracy)\n",
    "\n",
    "        print(f'epoch: {epoch+1}/{num_epochs}, train_loss: {avg_train_loss:.4f}, val_loss: {val_loss:.4f}, val_accuracy: {val_accuracy:.4f}')\n",
    "        \n",
    "        if early_stopping(val_loss): break\n",
    "\n",
    "    return history"
   ]
  },
  {
   "cell_type": "markdown",
   "metadata": {},
   "source": [
    "The hidden dimensions of the big and small networks are 1200 and 800 respectively. \n",
    "To train the networks we use an early stopping validation set and choose $T = 4.0$ and $a = 0.5$ (since the authors don't mention their values)."
   ]
  },
  {
   "cell_type": "code",
   "execution_count": 291,
   "metadata": {},
   "outputs": [],
   "source": [
    "#| code-summary: Train the big model\n",
    "#| output: false\n",
    "# Hyperparameters\n",
    "num_epochs = 100\n",
    "batch_size = 128\n",
    "lr = 0.01\n",
    "patience = 7\n",
    "big_model_size = 1200\n",
    "small_model_size = 800\n",
    "\n",
    "loader = lambda ds, shuffle = False: DataLoader(ds, batch_size = batch_size, shuffle = shuffle)\n",
    "val_loader   = loader(val_dataset)\n",
    "test_loader  = loader(test_dataset)\n",
    "\n",
    "# Train the big model\n",
    "train_dataset.dataset.transform = aug_transform\n",
    "train_loader = loader(train_dataset, shuffle = True)\n",
    "\n",
    "big_model = Model(1200).to(device)\n",
    "big_train_history = train(big_model, hard_loss, train_loader, val_loader, num_epochs, lr, patience)\n",
    "test_loss, test_accuracy = evaluate_model(big_model, test_loader)\n",
    "\n",
    "save_results(big_model, big_train_history, 'big_model')\n",
    "test_loss, test_accuracy"
   ]
  },
  {
   "cell_type": "code",
   "execution_count": 434,
   "metadata": {},
   "outputs": [],
   "source": [
    "#| code-summary: Train the smaller model on hard labels\n",
    "#| output: false\n",
    "def train_small_model(train_dataset, val_dataset, seed, loss, model_size = small_model_size):\n",
    "    set_seed(seed)\n",
    "    # no augmentation\n",
    "    train_dataset.dataset.transform = reg_transform\n",
    "    train_loader = loader(train_dataset, shuffle = True)\n",
    "    val_loader = loader(val_dataset)\n",
    "\n",
    "    # or regularization\n",
    "    small_model = Model(model_size, max_norm = None, drop_rate = 0.0).to(device)\n",
    "    small_train_history = train(small_model, loss, train_loader, val_loader, num_epochs, lr, patience)\n",
    "    return small_model, small_train_history\n",
    "\n",
    "# small_model, small_train_history = train_small_model(train_dataset, val_dataset, seed = 42, loss = hard_loss, T = 1.0)\n",
    "# save_results(small_model, small_train_history, 'small_model')\n",
    "# evaluate_model(small_model, test_loader)"
   ]
  },
  {
   "cell_type": "code",
   "execution_count": null,
   "metadata": {},
   "outputs": [
    {
     "name": "stdout",
     "output_type": "stream",
     "text": [
      "epoch: 1/100, train_loss: 10.0936, val_loss: 0.1055, val_accuracy: 0.9673\n",
      "epoch: 2/100, train_loss: 9.0607, val_loss: 0.0739, val_accuracy: 0.9755\n",
      "epoch: 3/100, train_loss: 8.9822, val_loss: 0.0632, val_accuracy: 0.9813\n",
      "epoch: 4/100, train_loss: 8.9506, val_loss: 0.0600, val_accuracy: 0.9807\n",
      "epoch: 5/100, train_loss: 8.9331, val_loss: 0.0561, val_accuracy: 0.9827\n",
      "epoch: 6/100, train_loss: 8.9222, val_loss: 0.0570, val_accuracy: 0.9830\n",
      "epoch: 7/100, train_loss: 8.9151, val_loss: 0.0535, val_accuracy: 0.9840\n",
      "epoch: 8/100, train_loss: 8.9089, val_loss: 0.0526, val_accuracy: 0.9840\n",
      "epoch: 9/100, train_loss: 8.9048, val_loss: 0.0519, val_accuracy: 0.9840\n",
      "epoch: 10/100, train_loss: 8.9015, val_loss: 0.0519, val_accuracy: 0.9843\n",
      "epoch: 11/100, train_loss: 8.8989, val_loss: 0.0508, val_accuracy: 0.9848\n",
      "epoch: 12/100, train_loss: 8.8966, val_loss: 0.0505, val_accuracy: 0.9852\n",
      "epoch: 13/100, train_loss: 8.8951, val_loss: 0.0496, val_accuracy: 0.9855\n",
      "epoch: 14/100, train_loss: 8.8933, val_loss: 0.0495, val_accuracy: 0.9853\n",
      "epoch: 15/100, train_loss: 8.8917, val_loss: 0.0487, val_accuracy: 0.9855\n",
      "epoch: 16/100, train_loss: 8.8904, val_loss: 0.0492, val_accuracy: 0.9855\n",
      "epoch: 17/100, train_loss: 8.8894, val_loss: 0.0490, val_accuracy: 0.9850\n",
      "epoch: 18/100, train_loss: 8.8885, val_loss: 0.0486, val_accuracy: 0.9860\n",
      "epoch: 19/100, train_loss: 8.8877, val_loss: 0.0483, val_accuracy: 0.9858\n",
      "epoch: 20/100, train_loss: 8.8870, val_loss: 0.0481, val_accuracy: 0.9860\n",
      "epoch: 21/100, train_loss: 8.8862, val_loss: 0.0480, val_accuracy: 0.9858\n",
      "epoch: 22/100, train_loss: 8.8856, val_loss: 0.0481, val_accuracy: 0.9860\n",
      "epoch: 23/100, train_loss: 8.8849, val_loss: 0.0479, val_accuracy: 0.9858\n",
      "epoch: 24/100, train_loss: 8.8844, val_loss: 0.0474, val_accuracy: 0.9858\n",
      "epoch: 25/100, train_loss: 8.8840, val_loss: 0.0474, val_accuracy: 0.9855\n",
      "epoch: 26/100, train_loss: 8.8838, val_loss: 0.0475, val_accuracy: 0.9857\n",
      "epoch: 27/100, train_loss: 8.8831, val_loss: 0.0475, val_accuracy: 0.9862\n",
      "epoch: 28/100, train_loss: 8.8828, val_loss: 0.0472, val_accuracy: 0.9855\n",
      "epoch: 29/100, train_loss: 8.8825, val_loss: 0.0470, val_accuracy: 0.9873\n",
      "epoch: 30/100, train_loss: 8.8821, val_loss: 0.0470, val_accuracy: 0.9863\n",
      "epoch: 31/100, train_loss: 8.8818, val_loss: 0.0471, val_accuracy: 0.9867\n",
      "epoch: 32/100, train_loss: 8.8815, val_loss: 0.0470, val_accuracy: 0.9867\n",
      "epoch: 33/100, train_loss: 8.8812, val_loss: 0.0470, val_accuracy: 0.9867\n",
      "epoch: 34/100, train_loss: 8.8809, val_loss: 0.0469, val_accuracy: 0.9865\n",
      "epoch: 35/100, train_loss: 8.8807, val_loss: 0.0467, val_accuracy: 0.9870\n",
      "epoch: 36/100, train_loss: 8.8805, val_loss: 0.0466, val_accuracy: 0.9863\n",
      "epoch: 37/100, train_loss: 8.8802, val_loss: 0.0467, val_accuracy: 0.9870\n",
      "epoch: 38/100, train_loss: 8.8800, val_loss: 0.0465, val_accuracy: 0.9872\n",
      "epoch: 39/100, train_loss: 8.8797, val_loss: 0.0465, val_accuracy: 0.9875\n",
      "epoch: 40/100, train_loss: 8.8796, val_loss: 0.0464, val_accuracy: 0.9872\n",
      "epoch: 41/100, train_loss: 8.8794, val_loss: 0.0465, val_accuracy: 0.9872\n",
      "epoch: 42/100, train_loss: 8.8792, val_loss: 0.0467, val_accuracy: 0.9865\n",
      "epoch: 43/100, train_loss: 8.8789, val_loss: 0.0463, val_accuracy: 0.9875\n",
      "epoch: 44/100, train_loss: 8.8787, val_loss: 0.0461, val_accuracy: 0.9870\n",
      "epoch: 45/100, train_loss: 8.8788, val_loss: 0.0462, val_accuracy: 0.9870\n",
      "epoch: 46/100, train_loss: 8.8784, val_loss: 0.0462, val_accuracy: 0.9872\n",
      "epoch: 47/100, train_loss: 8.8784, val_loss: 0.0463, val_accuracy: 0.9877\n",
      "epoch: 48/100, train_loss: 8.8784, val_loss: 0.0463, val_accuracy: 0.9870\n",
      "epoch: 49/100, train_loss: 8.8782, val_loss: 0.0461, val_accuracy: 0.9873\n",
      "epoch: 50/100, train_loss: 8.8780, val_loss: 0.0462, val_accuracy: 0.9873\n",
      "epoch: 51/100, train_loss: 8.8777, val_loss: 0.0460, val_accuracy: 0.9868\n",
      "epoch: 52/100, train_loss: 8.8778, val_loss: 0.0458, val_accuracy: 0.9870\n",
      "epoch: 53/100, train_loss: 8.8777, val_loss: 0.0462, val_accuracy: 0.9873\n",
      "epoch: 54/100, train_loss: 8.8774, val_loss: 0.0460, val_accuracy: 0.9873\n",
      "epoch: 55/100, train_loss: 8.8775, val_loss: 0.0458, val_accuracy: 0.9873\n",
      "epoch: 56/100, train_loss: 8.8774, val_loss: 0.0458, val_accuracy: 0.9867\n",
      "epoch: 57/100, train_loss: 8.8773, val_loss: 0.0458, val_accuracy: 0.9870\n",
      "epoch: 58/100, train_loss: 8.8770, val_loss: 0.0459, val_accuracy: 0.9872\n",
      "epoch: 59/100, train_loss: 8.8771, val_loss: 0.0458, val_accuracy: 0.9868\n"
     ]
    },
    {
     "data": {
      "text/plain": [
       "(0.033212841342349204, 0.9891)"
      ]
     },
     "execution_count": 369,
     "metadata": {},
     "output_type": "execute_result"
    }
   ],
   "source": [
    "#| code-summary: Train the distilled model\n",
    "#| output: false\n",
    "temperature, a = 4.0, 0.5\n",
    "\n",
    "distilled_model, distilled_train_history = train_small_model(\n",
    "    train_dataset = train_dataset, val_dataset = val_dataset, seed = 42,\n",
    "    loss = functools.partial(soft_loss, big_model = big_model, T = temperature, a = a)\n",
    ")\n",
    "save_results(distilled_model, distilled_train_history, 'distilled_model')\n",
    "evaluate_model(distilled_model, test_loader)"
   ]
  },
  {
   "cell_type": "code",
   "execution_count": 454,
   "metadata": {},
   "outputs": [
    {
     "name": "stderr",
     "output_type": "stream",
     "text": [
      "/var/folders/0r/dny0wtpd4412y54gp84twsj40000gn/T/ipykernel_76611/4017433887.py:15: FutureWarning: You are using `torch.load` with `weights_only=False` (the current default value), which uses the default pickle module implicitly. It is possible to construct malicious pickle data which will execute arbitrary code during unpickling (See https://github.com/pytorch/pytorch/blob/main/SECURITY.md#untrusted-models for more details). In a future release, the default value for `weights_only` will be flipped to `True`. This limits the functions that could be executed during unpickling. Arbitrary objects will no longer be allowed to be loaded via this mode unless they are explicitly allowlisted by the user via `torch.serialization.add_safe_globals`. We recommend you start setting `weights_only=True` for any use case where you don't have full control of the loaded file. Please open an issue on GitHub for any issues related to this experimental feature.\n",
      "  model.load_state_dict(torch.load('models/big_model.pt'))\n"
     ]
    },
    {
     "data": {
      "image/png": "[encoded data removed]",
      "text/plain": [
       "<Figure size 800x400 with 2 Axes>"
      ]
     },
     "metadata": {},
     "output_type": "display_data"
    }
   ],
   "source": [
    "#| echo: false\n",
    "#| output: false\n",
    "f, (ax1, ax2) = plt.subplots(1, 2, figsize = (8, 4))\n",
    "\n",
    "# plot an example in the fist ax\n",
    "idx = 9694\n",
    "img, label = test_dataset[idx]\n",
    "ax1.imshow(img.squeeze().numpy(), cmap = 'gray')\n",
    "ax1.axis('off')\n",
    "ax1.set_title(f'Input')\n",
    "\n",
    "# ax2: the predicted distribution and hard label\n",
    "# Load the big model and get the output\n",
    "model = Model(big_model_size).to(device)\n",
    "model.load_state_dict(torch.load('models/big_model.pt'))\n",
    "model.eval()\n",
    "get_probs = lambda o, T: F.softmax(o / T, dim = 1)[0].cpu().numpy()\n",
    "with torch.no_grad():\n",
    "    output = model(img.to(device)[None, :])\n",
    "\n",
    "# Prepare data for seaborn\n",
    "data = pd.DataFrame({\n",
    "    'Class': list(range(10)) * 3,\n",
    "    'Probability': [1.0 if i == label else 0.0 for i in range(10)] + list(get_probs(output, 4.0)) + list(get_probs(output, 8.0)),\n",
    "    'Type': ['Hard'] * 10 + ['Soft (T=4.0)'] * 10 + ['Soft (T=8.0)'] * 10\n",
    "})\n",
    "\n",
    "# Plot with seaborn\n",
    "sns.barplot(x='Class', y='Probability', hue='Type', data=data, ax=ax2)\n",
    "ax2.set_ylabel(''); ax2.set_xlabel('')\n",
    "# ax2.set_xticks(range(10))\n",
    "ax2.set_title(f'Labels')\n",
    "\n",
    "f.tight_layout()\n",
    "f.savefig('images/demo.png')"
   ]
  },
  {
   "cell_type": "markdown",
   "metadata": {},
   "source": [
    "And get the following test accuracies:"
   ]
  },
  {
   "cell_type": "code",
   "execution_count": 379,
   "metadata": {},
   "outputs": [
    {
     "name": "stderr",
     "output_type": "stream",
     "text": [
      "/var/folders/0r/dny0wtpd4412y54gp84twsj40000gn/T/ipykernel_76611/2388879164.py:6: FutureWarning: You are using `torch.load` with `weights_only=False` (the current default value), which uses the default pickle module implicitly. It is possible to construct malicious pickle data which will execute arbitrary code during unpickling (See https://github.com/pytorch/pytorch/blob/main/SECURITY.md#untrusted-models for more details). In a future release, the default value for `weights_only` will be flipped to `True`. This limits the functions that could be executed during unpickling. Arbitrary objects will no longer be allowed to be loaded via this mode unless they are explicitly allowlisted by the user via `torch.serialization.add_safe_globals`. We recommend you start setting `weights_only=True` for any use case where you don't have full control of the loaded file. Please open an issue on GitHub for any issues related to this experimental feature.\n",
      "  model.load_state_dict(torch.load(f'models/{model_name}.pt'))\n"
     ]
    },
    {
     "name": "stdout",
     "output_type": "stream",
     "text": [
      "big: 0.9901, small: 0.9833, distilled: 0.9891\n"
     ]
    }
   ],
   "source": [
    "#| echo: false\n",
    "names = ['big_model', 'small_model', 'distilled_model']\n",
    "res = []\n",
    "for model_name in names:\n",
    "    model = Model(big_model_size if 'big' in model_name else small_model_size).to(device)\n",
    "    model.load_state_dict(torch.load(f'models/{model_name}.pt'))\n",
    "    model.eval()\n",
    "    _, test_accuracy = evaluate_model(model, test_loader)\n",
    "    res.append(f'{model_name.split(\"_\")[0]}: {test_accuracy:.4f}')\n",
    "\n",
    "print(', '.join(res))"
   ]
  },
  {
   "cell_type": "markdown",
   "metadata": {},
   "source": [
    "# Mystical 3\n",
    "\n",
    "The authors then remove 3 from the transfer set the distilled model is trained on to test its generalization to unseen classes. *\"So from the perspective\n",
    "of the distilled model, 3 is a mythical digit that it has never seen*\". When we evaluate on the test set, which still contains 3s, we see that the distilled model performs much better than a small model trained with hard labels:"
   ]
  },
  {
   "cell_type": "code",
   "execution_count": null,
   "metadata": {},
   "outputs": [],
   "source": [
    "#| code-summary: Train without 3s in transfer set\n",
    "#| output: false\n",
    "\n",
    "# Remove all 3s from the dataset\n",
    "train_dataset = datasets.MNIST(root = DATA_DIR, train = True,  download = True, transform = aug_transform)\n",
    "train_dataset = torch.utils.data.Subset(train_dataset, np.where(train_dataset.targets != 3)[0])\n",
    "\n",
    "# Split training data into train and validation sets\n",
    "train_size = int(0.9 * len(train_dataset))\n",
    "val_size = len(train_dataset) - train_size\n",
    "train_dataset, val_dataset = torch.utils.data.random_split(\n",
    "    train_dataset, [train_size, val_size]\n",
    ")\n",
    "\n",
    "# Train small without distillation\n",
    "small_no_3, small_no_3_history = train_small_model(\n",
    "    train_dataset = train_dataset, val_dataset = val_dataset,\n",
    "    seed = 42, loss = hard_loss, model_size = 800\n",
    ")\n",
    "\n",
    "# Train small with distillation\n",
    "distilled_no_3, distilled_no_3_history = train_small_model(\n",
    "    train_dataset = train_dataset, val_dataset = val_dataset,\n",
    "    seed = 42, loss = functools.partial(soft_loss, big_model = big_model, T = 4.0, a = 0.5),\n",
    "    model_size = 800\n",
    ")"
   ]
  },
  {
   "cell_type": "code",
   "execution_count": null,
   "metadata": {},
   "outputs": [
    {
     "name": "stderr",
     "output_type": "stream",
     "text": [
      "/var/folders/0r/dny0wtpd4412y54gp84twsj40000gn/T/ipykernel_76611/1087436920.py:2: FutureWarning: You are using `torch.load` with `weights_only=False` (the current default value), which uses the default pickle module implicitly. It is possible to construct malicious pickle data which will execute arbitrary code during unpickling (See https://github.com/pytorch/pytorch/blob/main/SECURITY.md#untrusted-models for more details). In a future release, the default value for `weights_only` will be flipped to `True`. This limits the functions that could be executed during unpickling. Arbitrary objects will no longer be allowed to be loaded via this mode unless they are explicitly allowlisted by the user via `torch.serialization.add_safe_globals`. We recommend you start setting `weights_only=True` for any use case where you don't have full control of the loaded file. Please open an issue on GitHub for any issues related to this experimental feature.\n",
      "  model.load_state_dict(torch.load('models/small_no_3.pt'))\n",
      "/var/folders/0r/dny0wtpd4412y54gp84twsj40000gn/T/ipykernel_76611/1087436920.py:7: FutureWarning: You are using `torch.load` with `weights_only=False` (the current default value), which uses the default pickle module implicitly. It is possible to construct malicious pickle data which will execute arbitrary code during unpickling (See https://github.com/pytorch/pytorch/blob/main/SECURITY.md#untrusted-models for more details). In a future release, the default value for `weights_only` will be flipped to `True`. This limits the functions that could be executed during unpickling. Arbitrary objects will no longer be allowed to be loaded via this mode unless they are explicitly allowlisted by the user via `torch.serialization.add_safe_globals`. We recommend you start setting `weights_only=True` for any use case where you don't have full control of the loaded file. Please open an issue on GitHub for any issues related to this experimental feature.\n",
      "  model.load_state_dict(torch.load('models/distilled_no_3.pt'))\n"
     ]
    },
    {
     "name": "stdout",
     "output_type": "stream",
     "text": [
      "Not distilled: 0.8882, distilled: 0.9869\n"
     ]
    }
   ],
   "source": [
    "#| code-summary: Eval models\n",
    "#| echo: false\n",
    "model = Model(800).to(device)\n",
    "model.load_state_dict(torch.load('models/small_no_3.pt'))\n",
    "model.eval()\n",
    "_, not_dist_acc = evaluate_model(model, test_loader)\n",
    "\n",
    "model = Model(800).to(device)\n",
    "model.load_state_dict(torch.load('models/distilled_no_3.pt'))\n",
    "model.eval()\n",
    "_, dist_acc = evaluate_model(model, test_loader)\n",
    "\n",
    "print(f'small: {not_dist_acc:.4f}, distilled: {dist_acc:.4f}')"
   ]
  },
  {
   "cell_type": "markdown",
   "metadata": {},
   "source": [
    "In the paper, the authors take it to the extreme and show that a distilled model trained only on 7 and 8 still achieves impressive performance. They also do experiments on a bigger speech recognition dataset and discuss training experts on a CV dataset with distillation from a generalist model as regularization."
   ]
  },
  {
   "cell_type": "markdown",
   "metadata": {},
   "source": [
    "# Final thoughts\n",
    "\n",
    "It was very fun to return to this classic paper. It introduced a simple yet powerful idea that is still widely used today. Like most of these papers (circa 2015), it is very clear and readable. And—as Hinton staple—it is slightly bio-inspired, in this case by larvae.\n",
    "\n",
    "Some pointers to papers that extended on this idea. [Self-distillation](https://arxiv.org/abs/1805.04770) makes the teacher (\"big\") and student (\"small\") models the same size, and in [mutual learning](https://arxiv.org/abs/1706.00384) two or more networks learn collaboratively. However, the main extensions of this paper build on its main theme: train on a richer signal. You might train the student to imitate the teacher's [intermediate](https://arxiv.org/abs/1412.6550) (or [last](https://openreview.net/forum?id=ZzwDy_wiWv)) representations, [attention maps](https://arxiv.org/abs/1612.03928), etc."
   ]
  }
 ],
 "metadata": {
  "kernelspec": {
   "display_name": "Python 3",
   "language": "python",
   "name": "python3"
  },
  "language_info": {
   "codemirror_mode": {
    "name": "ipython",
    "version": 3
   },
   "file_extension": ".py",
   "mimetype": "text/x-python",
   "name": "python",
   "nbconvert_exporter": "python",
   "pygments_lexer": "ipython3",
   "version": "3.9.6"
  }
 },
 "nbformat": 4,
 "nbformat_minor": 2
}
