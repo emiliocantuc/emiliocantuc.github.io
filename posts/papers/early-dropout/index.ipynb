{
 "cells": [
  {
   "cell_type": "raw",
   "id": "faf5d3cf",
   "metadata": {
    "vscode": {
     "languageId": "raw"
    }
   },
   "source": [
    "---\n",
    "draft: true\n",
    "---"
   ]
  },
  {
   "cell_type": "markdown",
   "id": "00e94e15",
   "metadata": {
    "vscode": {
     "languageId": "raw"
    }
   },
   "source": [
    "Paper: [Dropout Reduces Overfitting](https://arxiv.org/abs/2303.01500)\n",
    "\n",
    "Try to see if [(spline) geometry](https://arxiv.org/abs/2408.04809v2) changes."
   ]
  }
 ],
 "metadata": {
  "language_info": {
   "name": "python"
  }
 },
 "nbformat": 4,
 "nbformat_minor": 5
}
